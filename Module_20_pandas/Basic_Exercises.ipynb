{
 "cells": [
  {
   "cell_type": "code",
   "execution_count": 2,
   "id": "350a1cc2-a3d1-4d7f-8b8e-aaff6d4fc276",
   "metadata": {},
   "outputs": [
    {
     "name": "stdout",
     "output_type": "stream",
     "text": [
      "Requirement already satisfied: jupyturtle in /home/asheshjyoti/anaconda3/lib/python3.11/site-packages (2024.4.1)\n",
      "Requirement already satisfied: ipython>=8 in /home/asheshjyoti/anaconda3/lib/python3.11/site-packages (from jupyturtle) (8.20.0)\n",
      "Requirement already satisfied: jupyter in /home/asheshjyoti/anaconda3/lib/python3.11/site-packages (from jupyturtle) (1.0.0)\n",
      "Requirement already satisfied: pytest in /home/asheshjyoti/anaconda3/lib/python3.11/site-packages (from jupyturtle) (7.4.0)\n",
      "Requirement already satisfied: decorator in /home/asheshjyoti/anaconda3/lib/python3.11/site-packages (from ipython>=8->jupyturtle) (5.1.1)\n",
      "Requirement already satisfied: jedi>=0.16 in /home/asheshjyoti/anaconda3/lib/python3.11/site-packages (from ipython>=8->jupyturtle) (0.18.1)\n",
      "Requirement already satisfied: matplotlib-inline in /home/asheshjyoti/anaconda3/lib/python3.11/site-packages (from ipython>=8->jupyturtle) (0.1.6)\n",
      "Requirement already satisfied: prompt-toolkit<3.1.0,>=3.0.41 in /home/asheshjyoti/anaconda3/lib/python3.11/site-packages (from ipython>=8->jupyturtle) (3.0.43)\n",
      "Requirement already satisfied: pygments>=2.4.0 in /home/asheshjyoti/anaconda3/lib/python3.11/site-packages (from ipython>=8->jupyturtle) (2.18.0)\n",
      "Requirement already satisfied: stack-data in /home/asheshjyoti/anaconda3/lib/python3.11/site-packages (from ipython>=8->jupyturtle) (0.2.0)\n",
      "Requirement already satisfied: traitlets>=5 in /home/asheshjyoti/anaconda3/lib/python3.11/site-packages (from ipython>=8->jupyturtle) (5.7.1)\n",
      "Requirement already satisfied: pexpect>4.3 in /home/asheshjyoti/anaconda3/lib/python3.11/site-packages (from ipython>=8->jupyturtle) (4.8.0)\n",
      "Requirement already satisfied: notebook in /home/asheshjyoti/anaconda3/lib/python3.11/site-packages (from jupyter->jupyturtle) (7.0.8)\n",
      "Requirement already satisfied: qtconsole in /home/asheshjyoti/anaconda3/lib/python3.11/site-packages (from jupyter->jupyturtle) (5.4.2)\n",
      "Requirement already satisfied: jupyter-console in /home/asheshjyoti/anaconda3/lib/python3.11/site-packages (from jupyter->jupyturtle) (6.6.3)\n",
      "Requirement already satisfied: nbconvert in /home/asheshjyoti/anaconda3/lib/python3.11/site-packages (from jupyter->jupyturtle) (7.10.0)\n",
      "Requirement already satisfied: ipykernel in /home/asheshjyoti/anaconda3/lib/python3.11/site-packages (from jupyter->jupyturtle) (6.28.0)\n",
      "Requirement already satisfied: ipywidgets in /home/asheshjyoti/anaconda3/lib/python3.11/site-packages (from jupyter->jupyturtle) (7.6.5)\n",
      "Requirement already satisfied: iniconfig in /home/asheshjyoti/anaconda3/lib/python3.11/site-packages (from pytest->jupyturtle) (1.1.1)\n",
      "Requirement already satisfied: packaging in /home/asheshjyoti/anaconda3/lib/python3.11/site-packages (from pytest->jupyturtle) (24.2)\n",
      "Requirement already satisfied: pluggy<2.0,>=0.12 in /home/asheshjyoti/anaconda3/lib/python3.11/site-packages (from pytest->jupyturtle) (1.0.0)\n",
      "Requirement already satisfied: parso<0.9.0,>=0.8.0 in /home/asheshjyoti/anaconda3/lib/python3.11/site-packages (from jedi>=0.16->ipython>=8->jupyturtle) (0.8.3)\n",
      "Requirement already satisfied: ptyprocess>=0.5 in /home/asheshjyoti/anaconda3/lib/python3.11/site-packages (from pexpect>4.3->ipython>=8->jupyturtle) (0.7.0)\n",
      "Requirement already satisfied: wcwidth in /home/asheshjyoti/anaconda3/lib/python3.11/site-packages (from prompt-toolkit<3.1.0,>=3.0.41->ipython>=8->jupyturtle) (0.2.5)\n",
      "Requirement already satisfied: comm>=0.1.1 in /home/asheshjyoti/anaconda3/lib/python3.11/site-packages (from ipykernel->jupyter->jupyturtle) (0.1.2)\n",
      "Requirement already satisfied: debugpy>=1.6.5 in /home/asheshjyoti/anaconda3/lib/python3.11/site-packages (from ipykernel->jupyter->jupyturtle) (1.6.7)\n",
      "Requirement already satisfied: jupyter-client>=6.1.12 in /home/asheshjyoti/anaconda3/lib/python3.11/site-packages (from ipykernel->jupyter->jupyturtle) (8.6.0)\n",
      "Requirement already satisfied: jupyter-core!=5.0.*,>=4.12 in /home/asheshjyoti/anaconda3/lib/python3.11/site-packages (from ipykernel->jupyter->jupyturtle) (5.5.0)\n",
      "Requirement already satisfied: nest-asyncio in /home/asheshjyoti/anaconda3/lib/python3.11/site-packages (from ipykernel->jupyter->jupyturtle) (1.6.0)\n",
      "Requirement already satisfied: psutil in /home/asheshjyoti/anaconda3/lib/python3.11/site-packages (from ipykernel->jupyter->jupyturtle) (5.9.0)\n",
      "Requirement already satisfied: pyzmq>=24 in /home/asheshjyoti/anaconda3/lib/python3.11/site-packages (from ipykernel->jupyter->jupyturtle) (25.1.2)\n",
      "Requirement already satisfied: tornado>=6.1 in /home/asheshjyoti/anaconda3/lib/python3.11/site-packages (from ipykernel->jupyter->jupyturtle) (6.3.3)\n",
      "Requirement already satisfied: ipython-genutils~=0.2.0 in /home/asheshjyoti/anaconda3/lib/python3.11/site-packages (from ipywidgets->jupyter->jupyturtle) (0.2.0)\n",
      "Requirement already satisfied: nbformat>=4.2.0 in /home/asheshjyoti/anaconda3/lib/python3.11/site-packages (from ipywidgets->jupyter->jupyturtle) (5.9.2)\n",
      "Requirement already satisfied: widgetsnbextension~=3.5.0 in /home/asheshjyoti/anaconda3/lib/python3.11/site-packages (from ipywidgets->jupyter->jupyturtle) (3.5.2)\n",
      "Requirement already satisfied: jupyterlab-widgets>=1.0.0 in /home/asheshjyoti/anaconda3/lib/python3.11/site-packages (from ipywidgets->jupyter->jupyturtle) (3.0.9)\n",
      "Requirement already satisfied: beautifulsoup4 in /home/asheshjyoti/anaconda3/lib/python3.11/site-packages (from nbconvert->jupyter->jupyturtle) (4.12.2)\n",
      "Requirement already satisfied: bleach!=5.0.0 in /home/asheshjyoti/anaconda3/lib/python3.11/site-packages (from nbconvert->jupyter->jupyturtle) (4.1.0)\n",
      "Requirement already satisfied: defusedxml in /home/asheshjyoti/anaconda3/lib/python3.11/site-packages (from nbconvert->jupyter->jupyturtle) (0.7.1)\n",
      "Requirement already satisfied: jinja2>=3.0 in /home/asheshjyoti/anaconda3/lib/python3.11/site-packages (from nbconvert->jupyter->jupyturtle) (3.1.4)\n",
      "Requirement already satisfied: jupyterlab-pygments in /home/asheshjyoti/anaconda3/lib/python3.11/site-packages (from nbconvert->jupyter->jupyturtle) (0.1.2)\n",
      "Requirement already satisfied: markupsafe>=2.0 in /home/asheshjyoti/anaconda3/lib/python3.11/site-packages (from nbconvert->jupyter->jupyturtle) (3.0.2)\n",
      "Requirement already satisfied: mistune<4,>=2.0.3 in /home/asheshjyoti/anaconda3/lib/python3.11/site-packages (from nbconvert->jupyter->jupyturtle) (2.0.4)\n",
      "Requirement already satisfied: nbclient>=0.5.0 in /home/asheshjyoti/anaconda3/lib/python3.11/site-packages (from nbconvert->jupyter->jupyturtle) (0.8.0)\n",
      "Requirement already satisfied: pandocfilters>=1.4.1 in /home/asheshjyoti/anaconda3/lib/python3.11/site-packages (from nbconvert->jupyter->jupyturtle) (1.5.0)\n",
      "Requirement already satisfied: tinycss2 in /home/asheshjyoti/anaconda3/lib/python3.11/site-packages (from nbconvert->jupyter->jupyturtle) (1.2.1)\n",
      "Requirement already satisfied: jupyter-server<3,>=2.4.0 in /home/asheshjyoti/anaconda3/lib/python3.11/site-packages (from notebook->jupyter->jupyturtle) (2.10.0)\n",
      "Requirement already satisfied: jupyterlab-server<3,>=2.22.1 in /home/asheshjyoti/anaconda3/lib/python3.11/site-packages (from notebook->jupyter->jupyturtle) (2.25.1)\n",
      "Requirement already satisfied: jupyterlab<4.1,>=4.0.2 in /home/asheshjyoti/anaconda3/lib/python3.11/site-packages (from notebook->jupyter->jupyturtle) (4.0.11)\n",
      "Requirement already satisfied: notebook-shim<0.3,>=0.2 in /home/asheshjyoti/anaconda3/lib/python3.11/site-packages (from notebook->jupyter->jupyturtle) (0.2.3)\n",
      "Requirement already satisfied: qtpy>=2.0.1 in /home/asheshjyoti/anaconda3/lib/python3.11/site-packages (from qtconsole->jupyter->jupyturtle) (2.4.1)\n",
      "Requirement already satisfied: executing in /home/asheshjyoti/anaconda3/lib/python3.11/site-packages (from stack-data->ipython>=8->jupyturtle) (0.8.3)\n",
      "Requirement already satisfied: asttokens in /home/asheshjyoti/anaconda3/lib/python3.11/site-packages (from stack-data->ipython>=8->jupyturtle) (2.0.5)\n",
      "Requirement already satisfied: pure-eval in /home/asheshjyoti/anaconda3/lib/python3.11/site-packages (from stack-data->ipython>=8->jupyturtle) (0.2.2)\n",
      "Requirement already satisfied: six>=1.9.0 in /home/asheshjyoti/anaconda3/lib/python3.11/site-packages (from bleach!=5.0.0->nbconvert->jupyter->jupyturtle) (1.17.0)\n",
      "Requirement already satisfied: webencodings in /home/asheshjyoti/anaconda3/lib/python3.11/site-packages (from bleach!=5.0.0->nbconvert->jupyter->jupyturtle) (0.5.1)\n",
      "Requirement already satisfied: python-dateutil>=2.8.2 in /home/asheshjyoti/anaconda3/lib/python3.11/site-packages (from jupyter-client>=6.1.12->ipykernel->jupyter->jupyturtle) (2.9.0.post0)\n",
      "Requirement already satisfied: platformdirs>=2.5 in /home/asheshjyoti/anaconda3/lib/python3.11/site-packages (from jupyter-core!=5.0.*,>=4.12->ipykernel->jupyter->jupyturtle) (3.10.0)\n",
      "Requirement already satisfied: anyio>=3.1.0 in /home/asheshjyoti/anaconda3/lib/python3.11/site-packages (from jupyter-server<3,>=2.4.0->notebook->jupyter->jupyturtle) (4.7.0)\n",
      "Requirement already satisfied: argon2-cffi in /home/asheshjyoti/anaconda3/lib/python3.11/site-packages (from jupyter-server<3,>=2.4.0->notebook->jupyter->jupyturtle) (21.3.0)\n",
      "Requirement already satisfied: jupyter-events>=0.6.0 in /home/asheshjyoti/anaconda3/lib/python3.11/site-packages (from jupyter-server<3,>=2.4.0->notebook->jupyter->jupyturtle) (0.8.0)\n",
      "Requirement already satisfied: jupyter-server-terminals in /home/asheshjyoti/anaconda3/lib/python3.11/site-packages (from jupyter-server<3,>=2.4.0->notebook->jupyter->jupyturtle) (0.4.4)\n",
      "Requirement already satisfied: overrides in /home/asheshjyoti/anaconda3/lib/python3.11/site-packages (from jupyter-server<3,>=2.4.0->notebook->jupyter->jupyturtle) (7.4.0)\n",
      "Requirement already satisfied: prometheus-client in /home/asheshjyoti/anaconda3/lib/python3.11/site-packages (from jupyter-server<3,>=2.4.0->notebook->jupyter->jupyturtle) (0.14.1)\n",
      "Requirement already satisfied: send2trash>=1.8.2 in /home/asheshjyoti/anaconda3/lib/python3.11/site-packages (from jupyter-server<3,>=2.4.0->notebook->jupyter->jupyturtle) (1.8.2)\n",
      "Requirement already satisfied: terminado>=0.8.3 in /home/asheshjyoti/anaconda3/lib/python3.11/site-packages (from jupyter-server<3,>=2.4.0->notebook->jupyter->jupyturtle) (0.17.1)\n",
      "Requirement already satisfied: websocket-client in /home/asheshjyoti/anaconda3/lib/python3.11/site-packages (from jupyter-server<3,>=2.4.0->notebook->jupyter->jupyturtle) (0.58.0)\n",
      "Requirement already satisfied: async-lru>=1.0.0 in /home/asheshjyoti/anaconda3/lib/python3.11/site-packages (from jupyterlab<4.1,>=4.0.2->notebook->jupyter->jupyturtle) (2.0.4)\n",
      "Requirement already satisfied: jupyter-lsp>=2.0.0 in /home/asheshjyoti/anaconda3/lib/python3.11/site-packages (from jupyterlab<4.1,>=4.0.2->notebook->jupyter->jupyturtle) (2.2.0)\n",
      "Requirement already satisfied: babel>=2.10 in /home/asheshjyoti/anaconda3/lib/python3.11/site-packages (from jupyterlab-server<3,>=2.22.1->notebook->jupyter->jupyturtle) (2.11.0)\n",
      "Requirement already satisfied: json5>=0.9.0 in /home/asheshjyoti/anaconda3/lib/python3.11/site-packages (from jupyterlab-server<3,>=2.22.1->notebook->jupyter->jupyturtle) (0.9.6)\n",
      "Requirement already satisfied: jsonschema>=4.18.0 in /home/asheshjyoti/anaconda3/lib/python3.11/site-packages (from jupyterlab-server<3,>=2.22.1->notebook->jupyter->jupyturtle) (4.19.2)\n",
      "Requirement already satisfied: requests>=2.31 in /home/asheshjyoti/anaconda3/lib/python3.11/site-packages (from jupyterlab-server<3,>=2.22.1->notebook->jupyter->jupyturtle) (2.32.3)\n",
      "Requirement already satisfied: fastjsonschema in /home/asheshjyoti/anaconda3/lib/python3.11/site-packages (from nbformat>=4.2.0->ipywidgets->jupyter->jupyturtle) (2.16.2)\n",
      "Requirement already satisfied: soupsieve>1.2 in /home/asheshjyoti/anaconda3/lib/python3.11/site-packages (from beautifulsoup4->nbconvert->jupyter->jupyturtle) (2.5)\n",
      "Requirement already satisfied: idna>=2.8 in /home/asheshjyoti/anaconda3/lib/python3.11/site-packages (from anyio>=3.1.0->jupyter-server<3,>=2.4.0->notebook->jupyter->jupyturtle) (3.10)\n",
      "Requirement already satisfied: sniffio>=1.1 in /home/asheshjyoti/anaconda3/lib/python3.11/site-packages (from anyio>=3.1.0->jupyter-server<3,>=2.4.0->notebook->jupyter->jupyturtle) (1.3.1)\n",
      "Requirement already satisfied: typing_extensions>=4.5 in /home/asheshjyoti/anaconda3/lib/python3.11/site-packages (from anyio>=3.1.0->jupyter-server<3,>=2.4.0->notebook->jupyter->jupyturtle) (4.12.2)\n",
      "Requirement already satisfied: pytz>=2015.7 in /home/asheshjyoti/anaconda3/lib/python3.11/site-packages (from babel>=2.10->jupyterlab-server<3,>=2.22.1->notebook->jupyter->jupyturtle) (2023.3.post1)\n",
      "Requirement already satisfied: attrs>=22.2.0 in /home/asheshjyoti/anaconda3/lib/python3.11/site-packages (from jsonschema>=4.18.0->jupyterlab-server<3,>=2.22.1->notebook->jupyter->jupyturtle) (24.2.0)\n",
      "Requirement already satisfied: jsonschema-specifications>=2023.03.6 in /home/asheshjyoti/anaconda3/lib/python3.11/site-packages (from jsonschema>=4.18.0->jupyterlab-server<3,>=2.22.1->notebook->jupyter->jupyturtle) (2023.7.1)\n",
      "Requirement already satisfied: referencing>=0.28.4 in /home/asheshjyoti/anaconda3/lib/python3.11/site-packages (from jsonschema>=4.18.0->jupyterlab-server<3,>=2.22.1->notebook->jupyter->jupyturtle) (0.30.2)\n",
      "Requirement already satisfied: rpds-py>=0.7.1 in /home/asheshjyoti/anaconda3/lib/python3.11/site-packages (from jsonschema>=4.18.0->jupyterlab-server<3,>=2.22.1->notebook->jupyter->jupyturtle) (0.10.6)\n",
      "Requirement already satisfied: python-json-logger>=2.0.4 in /home/asheshjyoti/anaconda3/lib/python3.11/site-packages (from jupyter-events>=0.6.0->jupyter-server<3,>=2.4.0->notebook->jupyter->jupyturtle) (2.0.7)\n",
      "Requirement already satisfied: pyyaml>=5.3 in /home/asheshjyoti/anaconda3/lib/python3.11/site-packages (from jupyter-events>=0.6.0->jupyter-server<3,>=2.4.0->notebook->jupyter->jupyturtle) (6.0.2)\n",
      "Requirement already satisfied: rfc3339-validator in /home/asheshjyoti/anaconda3/lib/python3.11/site-packages (from jupyter-events>=0.6.0->jupyter-server<3,>=2.4.0->notebook->jupyter->jupyturtle) (0.1.4)\n",
      "Requirement already satisfied: rfc3986-validator>=0.1.1 in /home/asheshjyoti/anaconda3/lib/python3.11/site-packages (from jupyter-events>=0.6.0->jupyter-server<3,>=2.4.0->notebook->jupyter->jupyturtle) (0.1.1)\n",
      "Requirement already satisfied: charset-normalizer<4,>=2 in /home/asheshjyoti/anaconda3/lib/python3.11/site-packages (from requests>=2.31->jupyterlab-server<3,>=2.22.1->notebook->jupyter->jupyturtle) (3.4.0)\n",
      "Requirement already satisfied: urllib3<3,>=1.21.1 in /home/asheshjyoti/anaconda3/lib/python3.11/site-packages (from requests>=2.31->jupyterlab-server<3,>=2.22.1->notebook->jupyter->jupyturtle) (2.2.3)\n",
      "Requirement already satisfied: certifi>=2017.4.17 in /home/asheshjyoti/anaconda3/lib/python3.11/site-packages (from requests>=2.31->jupyterlab-server<3,>=2.22.1->notebook->jupyter->jupyturtle) (2024.8.30)\n",
      "Requirement already satisfied: argon2-cffi-bindings in /home/asheshjyoti/anaconda3/lib/python3.11/site-packages (from argon2-cffi->jupyter-server<3,>=2.4.0->notebook->jupyter->jupyturtle) (21.2.0)\n",
      "Requirement already satisfied: fqdn in /home/asheshjyoti/anaconda3/lib/python3.11/site-packages (from jsonschema[format-nongpl]>=4.18.0->jupyter-events>=0.6.0->jupyter-server<3,>=2.4.0->notebook->jupyter->jupyturtle) (1.5.1)\n",
      "Requirement already satisfied: isoduration in /home/asheshjyoti/anaconda3/lib/python3.11/site-packages (from jsonschema[format-nongpl]>=4.18.0->jupyter-events>=0.6.0->jupyter-server<3,>=2.4.0->notebook->jupyter->jupyturtle) (20.11.0)\n",
      "Requirement already satisfied: jsonpointer>1.13 in /home/asheshjyoti/anaconda3/lib/python3.11/site-packages (from jsonschema[format-nongpl]>=4.18.0->jupyter-events>=0.6.0->jupyter-server<3,>=2.4.0->notebook->jupyter->jupyturtle) (2.1)\n",
      "Requirement already satisfied: uri-template in /home/asheshjyoti/anaconda3/lib/python3.11/site-packages (from jsonschema[format-nongpl]>=4.18.0->jupyter-events>=0.6.0->jupyter-server<3,>=2.4.0->notebook->jupyter->jupyturtle) (1.3.0)\n",
      "Requirement already satisfied: webcolors>=1.11 in /home/asheshjyoti/anaconda3/lib/python3.11/site-packages (from jsonschema[format-nongpl]>=4.18.0->jupyter-events>=0.6.0->jupyter-server<3,>=2.4.0->notebook->jupyter->jupyturtle) (24.11.1)\n",
      "Requirement already satisfied: cffi>=1.0.1 in /home/asheshjyoti/anaconda3/lib/python3.11/site-packages (from argon2-cffi-bindings->argon2-cffi->jupyter-server<3,>=2.4.0->notebook->jupyter->jupyturtle) (1.17.1)\n",
      "Requirement already satisfied: pycparser in /home/asheshjyoti/anaconda3/lib/python3.11/site-packages (from cffi>=1.0.1->argon2-cffi-bindings->argon2-cffi->jupyter-server<3,>=2.4.0->notebook->jupyter->jupyturtle) (2.22)\n",
      "Requirement already satisfied: arrow>=0.15.0 in /home/asheshjyoti/anaconda3/lib/python3.11/site-packages (from isoduration->jsonschema[format-nongpl]>=4.18.0->jupyter-events>=0.6.0->jupyter-server<3,>=2.4.0->notebook->jupyter->jupyturtle) (1.3.0)\n",
      "Requirement already satisfied: types-python-dateutil>=2.8.10 in /home/asheshjyoti/anaconda3/lib/python3.11/site-packages (from arrow>=0.15.0->isoduration->jsonschema[format-nongpl]>=4.18.0->jupyter-events>=0.6.0->jupyter-server<3,>=2.4.0->notebook->jupyter->jupyturtle) (2.9.0.20241206)\n",
      "^C\n",
      "\u001b[31mERROR: Operation cancelled by user\u001b[0m\u001b[31m\n",
      "\u001b[0m"
     ]
    }
   ],
   "source": [
    "!pip install jupyturtle"
   ]
  },
  {
   "cell_type": "code",
   "execution_count": 3,
   "id": "1c5cca86-2a72-4ba0-ad0e-837ca3b934a8",
   "metadata": {},
   "outputs": [],
   "source": [
    "import math\n",
    "from jupyturtle import make_turtle, forward, left, right, penup, pendown"
   ]
  },
  {
   "cell_type": "markdown",
   "id": "03fab3b7-daf2-4e66-bc00-cbd602e25316",
   "metadata": {},
   "source": [
    "## How many seconds are in 42 minutes 42 Seconds"
   ]
  },
  {
   "cell_type": "code",
   "execution_count": 4,
   "id": "ba21966e-cc81-4ed0-af5e-c9156c5ab5e6",
   "metadata": {},
   "outputs": [
    {
     "name": "stdout",
     "output_type": "stream",
     "text": [
      "Therefore 42 min 42 sec = 2562\n"
     ]
    }
   ],
   "source": [
    "minutes = 42\n",
    "seconds = 42\n",
    "\n",
    "total_time_in_sec = (minutes*60)+seconds\n",
    "print(f\"Therefore {minutes} min {seconds} sec = {total_time_in_sec}\")"
   ]
  },
  {
   "cell_type": "markdown",
   "id": "f6e01150-e5d9-4a5f-81da-9f91a0d16e73",
   "metadata": {},
   "source": [
    "## How many miles in 10 Km"
   ]
  },
  {
   "cell_type": "code",
   "execution_count": 5,
   "id": "b3a0a160-4c84-455d-8bf5-23594add417f",
   "metadata": {},
   "outputs": [
    {
     "name": "stdout",
     "output_type": "stream",
     "text": [
      "Therefore 10 Km distance in miles = 6.21118\n"
     ]
    }
   ],
   "source": [
    "distance_in_km = 10\n",
    "print(f\"Therefore {distance_in_km} Km distance in miles = {round(distance_in_km/1.61,5)}\")"
   ]
  },
  {
   "cell_type": "markdown",
   "id": "5140f47c-5a48-436d-bb69-05ad3709081f",
   "metadata": {},
   "source": [
    "## If you run a 10 kilometer race in 42 minutes 42 seconds, what is your averagepace in seconds per mile?"
   ]
  },
  {
   "cell_type": "code",
   "execution_count": 6,
   "id": "25799930-0d6e-430d-bcc4-30bc844bd6ea",
   "metadata": {},
   "outputs": [
    {
     "name": "stdout",
     "output_type": "stream",
     "text": [
      "The avearagepace in seconds/mile = 256.2\n"
     ]
    }
   ],
   "source": [
    "print(f\"The avearagepace in seconds/mile = {total_time_in_sec/distance_in_km}\")"
   ]
  },
  {
   "cell_type": "markdown",
   "id": "0914c367-5b9e-4be9-a6ec-162634b9159e",
   "metadata": {},
   "source": [
    "## What is your average pace in minutes and seconds per mile?"
   ]
  },
  {
   "cell_type": "code",
   "execution_count": 7,
   "id": "3c447673-db95-4cfe-859e-facd8e34cca7",
   "metadata": {},
   "outputs": [
    {
     "name": "stdout",
     "output_type": "stream",
     "text": [
      "The avearagepace in minutes/mile : 4.27\n",
      "The avearagepace in seconds/mile : 256.2\n"
     ]
    }
   ],
   "source": [
    "print(f\"The avearagepace in minutes/mile : {round((minutes+(seconds/60))/distance_in_km,3)}\\nThe avearagepace in seconds/mile : {total_time_in_sec/distance_in_km}\")"
   ]
  },
  {
   "cell_type": "code",
   "execution_count": 8,
   "id": "bafbc592-1687-4da7-a135-9d4e28836159",
   "metadata": {},
   "outputs": [
    {
     "name": "stdout",
     "output_type": "stream",
     "text": [
      "The avearagepace in miles/hour : 8.727653395784543\n"
     ]
    }
   ],
   "source": [
    "print(f\"The avearagepace in miles/hour : {round((distance_in_km/1.61),5)/((minutes/60)+(seconds/(60*60)))}\")"
   ]
  },
  {
   "cell_type": "markdown",
   "id": "d25de169-e980-4786-b088-9a44de2841e4",
   "metadata": {},
   "source": [
    "## Find volume of a sphere given its radius"
   ]
  },
  {
   "cell_type": "code",
   "execution_count": 9,
   "id": "fb9b1371-114d-4363-b7d5-fef6d3e9e1e4",
   "metadata": {},
   "outputs": [
    {
     "name": "stdout",
     "output_type": "stream",
     "text": [
      "The volume of sphere of radius 5cm : 523.599cm^2\n"
     ]
    }
   ],
   "source": [
    "import math\n",
    "radius = 5 #in centimeters\n",
    "volume = (4/3)*math.pi*radius**3 #in centimeters squares\n",
    "print(f\"The volume of sphere of radius {radius}cm : {round(volume,3)}cm^2\")"
   ]
  },
  {
   "cell_type": "markdown",
   "id": "4c466836-4337-45fc-b79c-689f75f0a012",
   "metadata": {},
   "source": [
    "## A rule of trigonometry says that for any value of x, cos x^2 + sin x^2 = 1.Let’s see if it’s true for a specific value of x like 42."
   ]
  },
  {
   "cell_type": "code",
   "execution_count": 10,
   "id": "41b61831-e964-4511-88ff-f652106f20e6",
   "metadata": {},
   "outputs": [
    {
     "name": "stdout",
     "output_type": "stream",
     "text": [
      "True\n"
     ]
    }
   ],
   "source": [
    "x = 42\n",
    "print((math.cos(x))**2 + ((math.sin(x))**2) == 1)"
   ]
  },
  {
   "cell_type": "markdown",
   "id": "03fe10ba-4a9e-4462-aa48-cc71ac76f964",
   "metadata": {},
   "source": [
    "## Use math.e and the exponentiation operator (**)"
   ]
  },
  {
   "cell_type": "code",
   "execution_count": 11,
   "id": "83633b90-492b-48a4-b0d3-7afe81a300f9",
   "metadata": {},
   "outputs": [
    {
     "name": "stdout",
     "output_type": "stream",
     "text": [
      "The square of 'e' is : 7.3890560989306495\n"
     ]
    }
   ],
   "source": [
    "print(f\"The square of 'e' is : {math.e**2}\")"
   ]
  },
  {
   "cell_type": "markdown",
   "id": "bf5aca0a-3b98-4efa-bf2f-ff7861992f09",
   "metadata": {},
   "source": [
    "## Use math.pow to raise math.e to the power 2"
   ]
  },
  {
   "cell_type": "code",
   "execution_count": 12,
   "id": "16ac7751-4bc1-419f-9f6f-a4676c294dca",
   "metadata": {},
   "outputs": [
    {
     "name": "stdout",
     "output_type": "stream",
     "text": [
      "The square of 'e' is : 7.3890560989306495\n"
     ]
    }
   ],
   "source": [
    "print(f\"The square of 'e' is : {math.pow(math.e,2)}\")"
   ]
  },
  {
   "cell_type": "markdown",
   "id": "024e2295-d155-41bc-a464-61c7f4f17f44",
   "metadata": {},
   "source": [
    "## Use math.exp, which takes as an argument a value, x, and computes ex"
   ]
  },
  {
   "cell_type": "code",
   "execution_count": 13,
   "id": "271881dd-4c4d-4174-8e4c-68b0d3591b7d",
   "metadata": {},
   "outputs": [
    {
     "name": "stdout",
     "output_type": "stream",
     "text": [
      "The value of 'e' * x is 7.38905609893065\n"
     ]
    }
   ],
   "source": [
    "x = 2\n",
    "print(f\"The value of 'e' * x is {math.exp(x)}\")"
   ]
  },
  {
   "cell_type": "code",
   "execution_count": 14,
   "id": "33222ec2-119d-4957-bdcc-7ac9bd9eca5a",
   "metadata": {},
   "outputs": [
    {
     "data": {
      "text/plain": [
       "<function math.pow(x, y, /)>"
      ]
     },
     "execution_count": 14,
     "metadata": {},
     "output_type": "execute_result"
    }
   ],
   "source": [
    "math.pow"
   ]
  },
  {
   "cell_type": "markdown",
   "id": "ff516045-3503-499e-bc27-5dffc0a93591",
   "metadata": {},
   "source": [
    "## Write a function named print_right that takes a string named text as a parameterand prints the string with enough leading spaces that the last letter of the string is inthe 40th column of the display"
   ]
  },
  {
   "cell_type": "code",
   "execution_count": 15,
   "id": "54d6cf2f-73ff-48b8-937c-69cf789a00d0",
   "metadata": {},
   "outputs": [
    {
     "name": "stdout",
     "output_type": "stream",
     "text": [
      "->                    ahsesh is a good boy\n",
      "length : len(final)\n",
      "->                     lalpi is a bad girl\n",
      "length : len(final)\n",
      "->                    sunita is a bad girl\n",
      "length : len(final)\n"
     ]
    }
   ],
   "source": [
    "def print_right(text):\n",
    "    length = len(text)\n",
    "    required = 40-length\n",
    "    final = ' ' * required + text \n",
    "    print(f\"->{final}\")\n",
    "    print(f\"length : len(final)\")\n",
    "list = ['ahsesh is a good boy','lalpi is a bad girl', 'sunita is a bad girl']\n",
    "\n",
    "for x in list :\n",
    "    print_right(x)"
   ]
  },
  {
   "cell_type": "markdown",
   "id": "8dcba8d1-3fa5-4283-9d6d-b58b003c090c",
   "metadata": {},
   "source": [
    "## Write a function called triangle that takes a string and an integer and draws a trian‐gle with the given height, made up of copies of the string. Here’s an example of a tri‐angle with five levels using the string '@'"
   ]
  },
  {
   "cell_type": "code",
   "execution_count": 16,
   "id": "a598c566-d1c8-4356-9a5f-2daac7cf3634",
   "metadata": {},
   "outputs": [
    {
     "name": "stdout",
     "output_type": "stream",
     "text": [
      "*\n",
      "**\n",
      "***\n",
      "****\n",
      "*****\n",
      "******\n",
      "*******\n",
      "********\n",
      "*********\n",
      "**********\n",
      "***********\n",
      "************\n",
      "*************\n",
      "**************\n",
      "***************\n",
      "****************\n",
      "*****************\n",
      "******************\n",
      "*******************\n",
      "********************\n",
      "*********************\n",
      "**********************\n",
      "***********************\n",
      "************************\n",
      "*************************\n",
      "**************************\n",
      "***************************\n",
      "****************************\n",
      "*****************************\n",
      "******************************\n",
      "*******************************\n",
      "********************************\n",
      "*********************************\n",
      "**********************************\n",
      "***********************************\n",
      "************************************\n",
      "*************************************\n",
      "**************************************\n",
      "***************************************\n",
      "****************************************\n",
      "*****************************************\n",
      "******************************************\n",
      "*******************************************\n",
      "********************************************\n",
      "*********************************************\n",
      "**********************************************\n",
      "***********************************************\n",
      "************************************************\n",
      "*************************************************\n",
      "**************************************************\n"
     ]
    }
   ],
   "source": [
    "def triangle(icon, height):\n",
    "    for x in range(height):\n",
    "        # print(icon*width)\n",
    "        for y in range(x+1):\n",
    "            print(icon, end = '')\n",
    "        print(\"\")\n",
    "\n",
    "triangle('*', 50)"
   ]
  },
  {
   "cell_type": "markdown",
   "id": "80911204-10ea-42b1-bbdc-8ff248b7fc97",
   "metadata": {},
   "source": [
    "## Write a function called rectangle that takes a string and two integers and draws a rectangle with the given width and height, made up of copies of the string."
   ]
  },
  {
   "cell_type": "code",
   "execution_count": 17,
   "id": "c1b7c6ed-89dc-4c11-a2ff-0165f845fae6",
   "metadata": {},
   "outputs": [
    {
     "name": "stdout",
     "output_type": "stream",
     "text": [
      "########################################\n",
      "########################################\n",
      "########################################\n",
      "########################################\n",
      "########################################\n",
      "########################################\n",
      "########################################\n",
      "########################################\n"
     ]
    }
   ],
   "source": [
    "def rectangle(icon, width, height):\n",
    "    for x in range(height):\n",
    "        print(icon*width)\n",
    "\n",
    "rectangle('#', 40, 8)"
   ]
  },
  {
   "cell_type": "markdown",
   "id": "7ff5306b-5eef-41d3-8054-d9a4f4499c47",
   "metadata": {},
   "source": [
    "## The song “99 Bottles of Beer” starts with this verse:99 bottles of beer on the wall,99 bottles of beer.Take one down, pass it around,98 bottles of beer on the wall.Then the second verse is the same, except that it starts with 98 bottles and ends with97. The song continues—for a very long time—until there are 0 bottles of beer.Write a function called bottle_verse that takes a number as a parameter and dis‐plays the verse that starts with the given number of bottles.Hint: consider starting with a function that can print the first, second, or last line ofthe verse, and then use it to write bottle_verse"
   ]
  },
  {
   "cell_type": "code",
   "execution_count": 18,
   "id": "121beabc-f4af-43c4-adb1-d0f28627f0d5",
   "metadata": {},
   "outputs": [
    {
     "name": "stdout",
     "output_type": "stream",
     "text": [
      "\n",
      "99 bottles of beer on the wall\n",
      "99 bottles of beerTake one down, pass it around\n",
      "98 bottles of beer on the wall\n",
      "\n",
      "\n",
      "98 bottles of beer on the wall\n",
      "98 bottles of beerTake one down, pass it around\n",
      "97 bottles of beer on the wall\n",
      "\n",
      "\n",
      "97 bottles of beer on the wall\n",
      "97 bottles of beerTake one down, pass it around\n",
      "96 bottles of beer on the wall\n",
      "\n",
      "\n",
      "96 bottles of beer on the wall\n",
      "96 bottles of beerTake one down, pass it around\n",
      "95 bottles of beer on the wall\n",
      "\n",
      "\n",
      "95 bottles of beer on the wall\n",
      "95 bottles of beerTake one down, pass it around\n",
      "94 bottles of beer on the wall\n",
      "\n",
      "\n",
      "94 bottles of beer on the wall\n",
      "94 bottles of beerTake one down, pass it around\n",
      "93 bottles of beer on the wall\n",
      "\n",
      "\n",
      "93 bottles of beer on the wall\n",
      "93 bottles of beerTake one down, pass it around\n",
      "92 bottles of beer on the wall\n",
      "\n",
      "\n",
      "92 bottles of beer on the wall\n",
      "92 bottles of beerTake one down, pass it around\n",
      "91 bottles of beer on the wall\n",
      "\n",
      "\n",
      "91 bottles of beer on the wall\n",
      "91 bottles of beerTake one down, pass it around\n",
      "90 bottles of beer on the wall\n",
      "\n",
      "\n",
      "90 bottles of beer on the wall\n",
      "90 bottles of beerTake one down, pass it around\n",
      "89 bottles of beer on the wall\n",
      "\n",
      "\n",
      "89 bottles of beer on the wall\n",
      "89 bottles of beerTake one down, pass it around\n",
      "88 bottles of beer on the wall\n",
      "\n",
      "\n",
      "88 bottles of beer on the wall\n",
      "88 bottles of beerTake one down, pass it around\n",
      "87 bottles of beer on the wall\n",
      "\n",
      "\n",
      "87 bottles of beer on the wall\n",
      "87 bottles of beerTake one down, pass it around\n",
      "86 bottles of beer on the wall\n",
      "\n",
      "\n",
      "86 bottles of beer on the wall\n",
      "86 bottles of beerTake one down, pass it around\n",
      "85 bottles of beer on the wall\n",
      "\n",
      "\n",
      "85 bottles of beer on the wall\n",
      "85 bottles of beerTake one down, pass it around\n",
      "84 bottles of beer on the wall\n",
      "\n",
      "\n",
      "84 bottles of beer on the wall\n",
      "84 bottles of beerTake one down, pass it around\n",
      "83 bottles of beer on the wall\n",
      "\n",
      "\n",
      "83 bottles of beer on the wall\n",
      "83 bottles of beerTake one down, pass it around\n",
      "82 bottles of beer on the wall\n",
      "\n",
      "\n",
      "82 bottles of beer on the wall\n",
      "82 bottles of beerTake one down, pass it around\n",
      "81 bottles of beer on the wall\n",
      "\n",
      "\n",
      "81 bottles of beer on the wall\n",
      "81 bottles of beerTake one down, pass it around\n",
      "80 bottles of beer on the wall\n",
      "\n",
      "\n",
      "80 bottles of beer on the wall\n",
      "80 bottles of beerTake one down, pass it around\n",
      "79 bottles of beer on the wall\n",
      "\n",
      "\n",
      "79 bottles of beer on the wall\n",
      "79 bottles of beerTake one down, pass it around\n",
      "78 bottles of beer on the wall\n",
      "\n",
      "\n",
      "78 bottles of beer on the wall\n",
      "78 bottles of beerTake one down, pass it around\n",
      "77 bottles of beer on the wall\n",
      "\n",
      "\n",
      "77 bottles of beer on the wall\n",
      "77 bottles of beerTake one down, pass it around\n",
      "76 bottles of beer on the wall\n",
      "\n",
      "\n",
      "76 bottles of beer on the wall\n",
      "76 bottles of beerTake one down, pass it around\n",
      "75 bottles of beer on the wall\n",
      "\n",
      "\n",
      "75 bottles of beer on the wall\n",
      "75 bottles of beerTake one down, pass it around\n",
      "74 bottles of beer on the wall\n",
      "\n",
      "\n",
      "74 bottles of beer on the wall\n",
      "74 bottles of beerTake one down, pass it around\n",
      "73 bottles of beer on the wall\n",
      "\n",
      "\n",
      "73 bottles of beer on the wall\n",
      "73 bottles of beerTake one down, pass it around\n",
      "72 bottles of beer on the wall\n",
      "\n",
      "\n",
      "72 bottles of beer on the wall\n",
      "72 bottles of beerTake one down, pass it around\n",
      "71 bottles of beer on the wall\n",
      "\n",
      "\n",
      "71 bottles of beer on the wall\n",
      "71 bottles of beerTake one down, pass it around\n",
      "70 bottles of beer on the wall\n",
      "\n",
      "\n",
      "70 bottles of beer on the wall\n",
      "70 bottles of beerTake one down, pass it around\n",
      "69 bottles of beer on the wall\n",
      "\n",
      "\n",
      "69 bottles of beer on the wall\n",
      "69 bottles of beerTake one down, pass it around\n",
      "68 bottles of beer on the wall\n",
      "\n",
      "\n",
      "68 bottles of beer on the wall\n",
      "68 bottles of beerTake one down, pass it around\n",
      "67 bottles of beer on the wall\n",
      "\n",
      "\n",
      "67 bottles of beer on the wall\n",
      "67 bottles of beerTake one down, pass it around\n",
      "66 bottles of beer on the wall\n",
      "\n",
      "\n",
      "66 bottles of beer on the wall\n",
      "66 bottles of beerTake one down, pass it around\n",
      "65 bottles of beer on the wall\n",
      "\n",
      "\n",
      "65 bottles of beer on the wall\n",
      "65 bottles of beerTake one down, pass it around\n",
      "64 bottles of beer on the wall\n",
      "\n",
      "\n",
      "64 bottles of beer on the wall\n",
      "64 bottles of beerTake one down, pass it around\n",
      "63 bottles of beer on the wall\n",
      "\n",
      "\n",
      "63 bottles of beer on the wall\n",
      "63 bottles of beerTake one down, pass it around\n",
      "62 bottles of beer on the wall\n",
      "\n",
      "\n",
      "62 bottles of beer on the wall\n",
      "62 bottles of beerTake one down, pass it around\n",
      "61 bottles of beer on the wall\n",
      "\n",
      "\n",
      "61 bottles of beer on the wall\n",
      "61 bottles of beerTake one down, pass it around\n",
      "60 bottles of beer on the wall\n",
      "\n",
      "\n",
      "60 bottles of beer on the wall\n",
      "60 bottles of beerTake one down, pass it around\n",
      "59 bottles of beer on the wall\n",
      "\n",
      "\n",
      "59 bottles of beer on the wall\n",
      "59 bottles of beerTake one down, pass it around\n",
      "58 bottles of beer on the wall\n",
      "\n",
      "\n",
      "58 bottles of beer on the wall\n",
      "58 bottles of beerTake one down, pass it around\n",
      "57 bottles of beer on the wall\n",
      "\n",
      "\n",
      "57 bottles of beer on the wall\n",
      "57 bottles of beerTake one down, pass it around\n",
      "56 bottles of beer on the wall\n",
      "\n",
      "\n",
      "56 bottles of beer on the wall\n",
      "56 bottles of beerTake one down, pass it around\n",
      "55 bottles of beer on the wall\n",
      "\n",
      "\n",
      "55 bottles of beer on the wall\n",
      "55 bottles of beerTake one down, pass it around\n",
      "54 bottles of beer on the wall\n",
      "\n",
      "\n",
      "54 bottles of beer on the wall\n",
      "54 bottles of beerTake one down, pass it around\n",
      "53 bottles of beer on the wall\n",
      "\n",
      "\n",
      "53 bottles of beer on the wall\n",
      "53 bottles of beerTake one down, pass it around\n",
      "52 bottles of beer on the wall\n",
      "\n",
      "\n",
      "52 bottles of beer on the wall\n",
      "52 bottles of beerTake one down, pass it around\n",
      "51 bottles of beer on the wall\n",
      "\n",
      "\n",
      "51 bottles of beer on the wall\n",
      "51 bottles of beerTake one down, pass it around\n",
      "50 bottles of beer on the wall\n",
      "\n",
      "\n",
      "50 bottles of beer on the wall\n",
      "50 bottles of beerTake one down, pass it around\n",
      "49 bottles of beer on the wall\n",
      "\n",
      "\n",
      "49 bottles of beer on the wall\n",
      "49 bottles of beerTake one down, pass it around\n",
      "48 bottles of beer on the wall\n",
      "\n",
      "\n",
      "48 bottles of beer on the wall\n",
      "48 bottles of beerTake one down, pass it around\n",
      "47 bottles of beer on the wall\n",
      "\n",
      "\n",
      "47 bottles of beer on the wall\n",
      "47 bottles of beerTake one down, pass it around\n",
      "46 bottles of beer on the wall\n",
      "\n",
      "\n",
      "46 bottles of beer on the wall\n",
      "46 bottles of beerTake one down, pass it around\n",
      "45 bottles of beer on the wall\n",
      "\n",
      "\n",
      "45 bottles of beer on the wall\n",
      "45 bottles of beerTake one down, pass it around\n",
      "44 bottles of beer on the wall\n",
      "\n",
      "\n",
      "44 bottles of beer on the wall\n",
      "44 bottles of beerTake one down, pass it around\n",
      "43 bottles of beer on the wall\n",
      "\n",
      "\n",
      "43 bottles of beer on the wall\n",
      "43 bottles of beerTake one down, pass it around\n",
      "42 bottles of beer on the wall\n",
      "\n",
      "\n",
      "42 bottles of beer on the wall\n",
      "42 bottles of beerTake one down, pass it around\n",
      "41 bottles of beer on the wall\n",
      "\n",
      "\n",
      "41 bottles of beer on the wall\n",
      "41 bottles of beerTake one down, pass it around\n",
      "40 bottles of beer on the wall\n",
      "\n",
      "\n",
      "40 bottles of beer on the wall\n",
      "40 bottles of beerTake one down, pass it around\n",
      "39 bottles of beer on the wall\n",
      "\n",
      "\n",
      "39 bottles of beer on the wall\n",
      "39 bottles of beerTake one down, pass it around\n",
      "38 bottles of beer on the wall\n",
      "\n",
      "\n",
      "38 bottles of beer on the wall\n",
      "38 bottles of beerTake one down, pass it around\n",
      "37 bottles of beer on the wall\n",
      "\n",
      "\n",
      "37 bottles of beer on the wall\n",
      "37 bottles of beerTake one down, pass it around\n",
      "36 bottles of beer on the wall\n",
      "\n",
      "\n",
      "36 bottles of beer on the wall\n",
      "36 bottles of beerTake one down, pass it around\n",
      "35 bottles of beer on the wall\n",
      "\n",
      "\n",
      "35 bottles of beer on the wall\n",
      "35 bottles of beerTake one down, pass it around\n",
      "34 bottles of beer on the wall\n",
      "\n",
      "\n",
      "34 bottles of beer on the wall\n",
      "34 bottles of beerTake one down, pass it around\n",
      "33 bottles of beer on the wall\n",
      "\n",
      "\n",
      "33 bottles of beer on the wall\n",
      "33 bottles of beerTake one down, pass it around\n",
      "32 bottles of beer on the wall\n",
      "\n",
      "\n",
      "32 bottles of beer on the wall\n",
      "32 bottles of beerTake one down, pass it around\n",
      "31 bottles of beer on the wall\n",
      "\n",
      "\n",
      "31 bottles of beer on the wall\n",
      "31 bottles of beerTake one down, pass it around\n",
      "30 bottles of beer on the wall\n",
      "\n",
      "\n",
      "30 bottles of beer on the wall\n",
      "30 bottles of beerTake one down, pass it around\n",
      "29 bottles of beer on the wall\n",
      "\n",
      "\n",
      "29 bottles of beer on the wall\n",
      "29 bottles of beerTake one down, pass it around\n",
      "28 bottles of beer on the wall\n",
      "\n",
      "\n",
      "28 bottles of beer on the wall\n",
      "28 bottles of beerTake one down, pass it around\n",
      "27 bottles of beer on the wall\n",
      "\n",
      "\n",
      "27 bottles of beer on the wall\n",
      "27 bottles of beerTake one down, pass it around\n",
      "26 bottles of beer on the wall\n",
      "\n",
      "\n",
      "26 bottles of beer on the wall\n",
      "26 bottles of beerTake one down, pass it around\n",
      "25 bottles of beer on the wall\n",
      "\n",
      "\n",
      "25 bottles of beer on the wall\n",
      "25 bottles of beerTake one down, pass it around\n",
      "24 bottles of beer on the wall\n",
      "\n",
      "\n",
      "24 bottles of beer on the wall\n",
      "24 bottles of beerTake one down, pass it around\n",
      "23 bottles of beer on the wall\n",
      "\n",
      "\n",
      "23 bottles of beer on the wall\n",
      "23 bottles of beerTake one down, pass it around\n",
      "22 bottles of beer on the wall\n",
      "\n",
      "\n",
      "22 bottles of beer on the wall\n",
      "22 bottles of beerTake one down, pass it around\n",
      "21 bottles of beer on the wall\n",
      "\n",
      "\n",
      "21 bottles of beer on the wall\n",
      "21 bottles of beerTake one down, pass it around\n",
      "20 bottles of beer on the wall\n",
      "\n",
      "\n",
      "20 bottles of beer on the wall\n",
      "20 bottles of beerTake one down, pass it around\n",
      "19 bottles of beer on the wall\n",
      "\n",
      "\n",
      "19 bottles of beer on the wall\n",
      "19 bottles of beerTake one down, pass it around\n",
      "18 bottles of beer on the wall\n",
      "\n",
      "\n",
      "18 bottles of beer on the wall\n",
      "18 bottles of beerTake one down, pass it around\n",
      "17 bottles of beer on the wall\n",
      "\n",
      "\n",
      "17 bottles of beer on the wall\n",
      "17 bottles of beerTake one down, pass it around\n",
      "16 bottles of beer on the wall\n",
      "\n",
      "\n",
      "16 bottles of beer on the wall\n",
      "16 bottles of beerTake one down, pass it around\n",
      "15 bottles of beer on the wall\n",
      "\n",
      "\n",
      "15 bottles of beer on the wall\n",
      "15 bottles of beerTake one down, pass it around\n",
      "14 bottles of beer on the wall\n",
      "\n",
      "\n",
      "14 bottles of beer on the wall\n",
      "14 bottles of beerTake one down, pass it around\n",
      "13 bottles of beer on the wall\n",
      "\n",
      "\n",
      "13 bottles of beer on the wall\n",
      "13 bottles of beerTake one down, pass it around\n",
      "12 bottles of beer on the wall\n",
      "\n",
      "\n",
      "12 bottles of beer on the wall\n",
      "12 bottles of beerTake one down, pass it around\n",
      "11 bottles of beer on the wall\n",
      "\n",
      "\n",
      "11 bottles of beer on the wall\n",
      "11 bottles of beerTake one down, pass it around\n",
      "10 bottles of beer on the wall\n",
      "\n",
      "\n",
      "10 bottles of beer on the wall\n",
      "10 bottles of beerTake one down, pass it around\n",
      "9 bottles of beer on the wall\n",
      "\n",
      "\n",
      "9 bottles of beer on the wall\n",
      "9 bottles of beerTake one down, pass it around\n",
      "8 bottles of beer on the wall\n",
      "\n",
      "\n",
      "8 bottles of beer on the wall\n",
      "8 bottles of beerTake one down, pass it around\n",
      "7 bottles of beer on the wall\n",
      "\n",
      "\n",
      "7 bottles of beer on the wall\n",
      "7 bottles of beerTake one down, pass it around\n",
      "6 bottles of beer on the wall\n",
      "\n",
      "\n",
      "6 bottles of beer on the wall\n",
      "6 bottles of beerTake one down, pass it around\n",
      "5 bottles of beer on the wall\n",
      "\n",
      "\n",
      "5 bottles of beer on the wall\n",
      "5 bottles of beerTake one down, pass it around\n",
      "4 bottles of beer on the wall\n",
      "\n",
      "\n",
      "4 bottles of beer on the wall\n",
      "4 bottles of beerTake one down, pass it around\n",
      "3 bottles of beer on the wall\n",
      "\n",
      "\n",
      "3 bottles of beer on the wall\n",
      "3 bottles of beerTake one down, pass it around\n",
      "2 bottles of beer on the wall\n",
      "\n",
      "\n",
      "2 bottles of beer on the wall\n",
      "2 bottles of beerTake one down, pass it around\n",
      "1 bottles of beer on the wall\n",
      "\n",
      "\n",
      "1 bottles of beer on the wall\n",
      "1 bottles of beerTake one down, pass it around\n",
      "0 bottles of beer on the wall\n",
      "\n"
     ]
    }
   ],
   "source": [
    "\n",
    "\n",
    "def bottle_verse(number_of_bottles):\n",
    "    x = number_of_bottles\n",
    "    y = x-1\n",
    "\n",
    "    verse = f'''\n",
    "{x} bottles of beer on the wall\n",
    "{x} bottles of beerTake one down, pass it around\n",
    "{y} bottles of beer on the wall\n",
    "'''\n",
    "    \n",
    "    print(verse)\n",
    "for x in range(99,0,-1):\n",
    "    bottle_verse(x)"
   ]
  },
  {
   "cell_type": "markdown",
   "id": "14b8d89f-fad3-48d6-8463-8b43ed6d77e9",
   "metadata": {},
   "source": [
    "## Jupyturtle"
   ]
  },
  {
   "cell_type": "code",
   "execution_count": 19,
   "id": "dfcff207-d144-42ac-ab3e-9cc85fae7a3a",
   "metadata": {},
   "outputs": [
    {
     "ename": "SyntaxError",
     "evalue": "expected ':' (3141409374.py, line 8)",
     "output_type": "error",
     "traceback": [
      "\u001b[0;36m  Cell \u001b[0;32mIn[19], line 8\u001b[0;36m\u001b[0m\n\u001b[0;31m    for x in range()\u001b[0m\n\u001b[0m                    ^\u001b[0m\n\u001b[0;31mSyntaxError\u001b[0m\u001b[0;31m:\u001b[0m expected ':'\n"
     ]
    }
   ],
   "source": [
    "make_turtle(width=600, height=400 )\n",
    "def make_square(size):\n",
    "    for x in range(4):\n",
    "        forward(size)\n",
    "        left(90)\n",
    "make_square(100)\n",
    "make_square(90)\n",
    "for x in range()\n",
    " \n"
   ]
  },
  {
   "cell_type": "code",
   "execution_count": null,
   "id": "c538d094-9e01-47ef-8c68-5c2f5b5bde52",
   "metadata": {},
   "outputs": [],
   "source": [
    "make_turtle(width=600, height=400 )\n",
    "def make_polygon(num_sides, len_sides):\n",
    "    degree = 360/num_sides\n",
    "    for sides in range(num_sides):\n",
    "        forward(len_sides)\n",
    "        left(degree)\n",
    "make_polygon(num_sides=7, len_sides=30)"
   ]
  },
  {
   "cell_type": "markdown",
   "id": "a1f97b9e-2d6a-44b8-b51c-8d2ba09ac198",
   "metadata": {},
   "source": [
    "## Drawing a circle"
   ]
  },
  {
   "cell_type": "code",
   "execution_count": null,
   "id": "60758352-13f5-4f30-be10-14555534cc18",
   "metadata": {},
   "outputs": [],
   "source": [
    "make_turtle(height=600, width = 800, delay=0.02)\n",
    "def make_circle(radius,num_sides):\n",
    "    circumference = 2 * math.pi * radius\n",
    "    len_sides = circumference/num_sides\n",
    "    angle = 360 / num_sides\n",
    "    for sides in range(num_sides):\n",
    "        forward(len_sides)\n",
    "        left(angle)\n",
    "\n",
    "make_circle(radius=80, num_sides=50)"
   ]
  },
  {
   "cell_type": "markdown",
   "id": "ca0b9e06-31d9-43a1-90d1-22c7ac5aee04",
   "metadata": {},
   "source": [
    "## Write an appropriately general set of functions that can draw shapes"
   ]
  },
  {
   "cell_type": "code",
   "execution_count": null,
   "id": "4501a314-4cfa-46d3-ae1e-efd80d60b3df",
   "metadata": {},
   "outputs": [],
   "source": [
    "def make_circle(radius):\n",
    "    \n",
    "def arc(radius):\n",
    "    "
   ]
  },
  {
   "cell_type": "code",
   "execution_count": null,
   "id": "e2dbc364-dbdd-4215-b4fb-13b7c9e74f18",
   "metadata": {},
   "outputs": [],
   "source": [
    "def recurse():\n",
    "    recurse()"
   ]
  },
  {
   "cell_type": "markdown",
   "id": "404ea503-5402-42a1-afba-455510505895",
   "metadata": {},
   "source": [
    "## Write a function called uses_only that takes a word and a string of letters, and thatreturns True if the word contains only letters in the string."
   ]
  },
  {
   "cell_type": "code",
   "execution_count": null,
   "id": "1a6fef40-987b-49b6-a2d4-abce6158f666",
   "metadata": {},
   "outputs": [],
   "source": [
    "def uses_only (word, string_of_letters):\n",
    "    if string_of_letters in word:\n",
    "        return True\n",
    "    return False\n",
    "\n",
    "uses_only('banana', 'aia')"
   ]
  },
  {
   "cell_type": "code",
   "execution_count": null,
   "id": "c02aacfe-6134-4892-9df9-fab5498507c9",
   "metadata": {},
   "outputs": [],
   "source": [
    "import time\n",
    "dict = {}\n",
    "\n",
    "with open('datasets/pg345.txt','r') as file:\n",
    "    unmodified = file.read()\n",
    "\n",
    "words_list = unmodified.split(' ')\n",
    "len(words_list)\n",
    "def reverse_word(word):\n",
    "    ''.join(reversed(word))\n",
    "start_list = time.time()\n",
    "print(\"started\")\n",
    "\n",
    "for item in words_list:\n",
    "    if item+\"python\" in words_list:\n",
    "        print(\"found\")\n",
    "end_list = time.time()\n",
    "\n",
    "print(\"List time taken:\", end_list - start_list)\n",
    "start_dict = time.time()\n",
    "\n",
    "for x in words_list:\n",
    "    dict[x] = 1\n",
    "for item in dict:\n",
    "    reversed_word = reverse_word(item)\n",
    "end_dict = time.time()\n",
    "\n",
    "print(\"Dict time taken:\", end_dict - start_dict)"
   ]
  },
  {
   "cell_type": "code",
   "execution_count": null,
   "id": "ae617fab-8603-49ff-98b0-b4d73c1a8bb3",
   "metadata": {},
   "outputs": [],
   "source": [
    "letters_counter = {}\n",
    "def count_letters(string):\n",
    "    for letter in string:\n",
    "        if letter in letters_counter:\n",
    "            letters_counter[letter] += 1\n",
    "        else:\n",
    "            letters_counter[letter] = 1\n",
    "    print(letters_counter)\n",
    "line = \"The words “contrafibularities” and “anaspeptic” are not real words in the English language—they are humorous nonsense or pseudo-words, famously used by the British comedy group Monty Python to mock pretentious or overcomplicated language. -- A wrong fact\"\n",
    "count_letters(line)\n",
    "\n"
   ]
  },
  {
   "cell_type": "code",
   "execution_count": null,
   "id": "7c7fd038-0701-429b-ac80-f58f900cee50",
   "metadata": {},
   "outputs": [],
   "source": [
    "a = (1)\n",
    "print(type(a))\n",
    "a = (1,)\n",
    "print(type(a))"
   ]
  },
  {
   "cell_type": "code",
   "execution_count": null,
   "id": "87f88b1a-c559-4845-9148-784d5e474a64",
   "metadata": {},
   "outputs": [],
   "source": [
    "l = [1,2,3,4,'di']\n",
    "print(tuple(l))"
   ]
  },
  {
   "cell_type": "code",
   "execution_count": null,
   "id": "338e5b9c-e5b9-456e-a137-b307f34f6162",
   "metadata": {},
   "outputs": [],
   "source": [
    "d = {}\n",
    "d[1,2] = 'hi'\n",
    "b = (1,2,3,'no')\n",
    "d[b] = 'bye'\n",
    "l = [1,2,3]\n",
    "d[(4,5)] = l\n",
    "type(d[4,5])"
   ]
  },
  {
   "cell_type": "markdown",
   "id": "f54c737f-f583-4114-afe4-1519a9dc82a0",
   "metadata": {},
   "source": [
    "## Using zip to apply operations on more than one sequence"
   ]
  },
  {
   "cell_type": "code",
   "execution_count": null,
   "id": "0362b815-c17a-40f3-844f-a27162bddca4",
   "metadata": {},
   "outputs": [],
   "source": [
    "l1 = [1,2,3,4]\n",
    "l2 = [5,6,7,8]\n",
    "l3 = [9,10,11,12]\n",
    "l_aggregate = []\n",
    "for batch in zip(l1,l2,l3):\n",
    "    print(batch)\n",
    "    l_aggregate.append(sum(batch)/3)\n",
    "print(l_aggregate)"
   ]
  },
  {
   "cell_type": "markdown",
   "id": "d7ea6ebb-a09d-4877-b7f9-296f3bc5d581",
   "metadata": {},
   "source": [
    "### Making a dict using key and value lists"
   ]
  },
  {
   "cell_type": "code",
   "execution_count": null,
   "id": "fa524803-ffdc-47d4-a7ba-3a26fbcfec1c",
   "metadata": {},
   "outputs": [],
   "source": [
    "email_list = {}\n",
    "key = [1,2,3,4,5]\n",
    "value = ['ashesh@synkus', 'soubhik@synkus', 'koulik@synkus']\n",
    "for key, value in zip(key, value):\n",
    "    email_list[key] = value\n",
    "\n",
    "email_list"
   ]
  },
  {
   "cell_type": "markdown",
   "id": "e77f388c-e43e-486c-a44d-51eb6256d3bb",
   "metadata": {},
   "source": [
    "## Write a function called most_frequent_letters that takes a string and prints the letters in decreasing order of frequency"
   ]
  },
  {
   "cell_type": "code",
   "execution_count": null,
   "id": "b8194b7f-8fb1-4c4c-b6d3-9ff2c4690115",
   "metadata": {},
   "outputs": [],
   "source": [
    "string = \"Write a function called most_frequent_letters that takes a string and prints the letters in decreasing order of frequency\"\n",
    "frequency = {}\n",
    "sorted_freq = {}\n",
    "def return_values_from_dict (key):\n",
    "    return frequency[key]\n",
    "\n",
    "def most_frequent_letters (string):\n",
    "    # removing white spaces\n",
    "    string_modified = string.split(\" \")\n",
    "\n",
    "    # creating an un-sorted dict of frequency\n",
    "    for word in string_modified:\n",
    "        for letter in word:\n",
    "            if letter not in frequency:\n",
    "                frequency[letter] = 1\n",
    "            else:\n",
    "                frequency[letter] = frequency[letter] + 1\n",
    "    sorted_keys = sorted(frequency, key = return_values_from_dict)\n",
    "    # print(sorted_keys)\n",
    "    for i,value in enumerate(frequency.values()):\n",
    "        sorted_freq[sorted_keys[i]] = frequency[sorted_keys[i]]\n",
    "    return sorted_freq\n",
    "most_frequent_letters(string)\n",
    "# list(frequency.values())"
   ]
  },
  {
   "cell_type": "code",
   "execution_count": null,
   "id": "eb952597-700b-4859-bd79-95aa35f25cca",
   "metadata": {},
   "outputs": [],
   "source": [
    "list(enumerate(frequency.values()))"
   ]
  },
  {
   "cell_type": "markdown",
   "id": "9ec6da8b-ece8-4899-8f8c-dfd8dc4d77f4",
   "metadata": {},
   "source": [
    "## Text Creation using Markov Gen"
   ]
  },
  {
   "cell_type": "markdown",
   "id": "43a93e2b-07f3-4a2f-80f3-d931149ce75d",
   "metadata": {},
   "source": [
    "### Text Preprocessing"
   ]
  },
  {
   "cell_type": "markdown",
   "id": "089f0afb-f339-4c65-926d-1d78a111cb1c",
   "metadata": {},
   "source": [
    "**Removing dashes '-'**"
   ]
  },
  {
   "cell_type": "code",
   "execution_count": 20,
   "id": "bdf00a2d-cbad-4a90-9f48-fde0dadca532",
   "metadata": {},
   "outputs": [
    {
     "name": "stdout",
     "output_type": "stream",
     "text": [
      "Word count of Original text:  28739\n",
      "﻿The\n"
     ]
    }
   ],
   "source": [
    "import unicodedata\n",
    "\n",
    "frequency = {}\n",
    "\n",
    "file_path = 'datasets/dr_jekyll.txt'\n",
    "\n",
    "def len_of_text(_file_path=file_path):\n",
    "    \"\"\"\n",
    "    Find the Total word count of original text\n",
    "    \n",
    "    _file_path : string,the path to the file.txt to read\n",
    "\n",
    "    return : int, Word count of the text\n",
    "    \"\"\"\n",
    "    with open(_file_path) as file :\n",
    "        text = file.read()\n",
    "    return len(text.split())\n",
    "\n",
    "def find_punct(_file_path=file_path):\n",
    "    \"\"\"\n",
    "    Find all punctuations in a given text\n",
    "\n",
    "    _file_path : string,the path to the file.txt to read\n",
    "\n",
    "    return : dict, with keys as the punctions found and values as a constant int 1.\n",
    "    \"\"\"\n",
    "\n",
    "    punct = {}\n",
    "    \n",
    "    with open(_file_path) as file:\n",
    "        lines = file.readlines()\n",
    "        for line in lines:\n",
    "            for char in line:\n",
    "                category = unicodedata.category(char)\n",
    "                if category.startswith('P'):\n",
    "                    punct[char] = 1\n",
    "        return punct\n",
    "\n",
    "def remove(_file_path=file_path, to_remove=find_punct()):\n",
    "    \"\"\"\n",
    "    replaces all occurances of punctuations with 'space'\n",
    "\n",
    "    _file_path : String, the path to the file.txt to read\n",
    "    to_remove : Dict, character or string or punctuation as key to replace from the text with 'space'\n",
    "\n",
    "    return :  List, with processed and cleaned lines as its elements\n",
    "    \"\"\"\n",
    "    with open(_file_path) as file:\n",
    "        lines = file.readlines()\n",
    "        # print(lines)\n",
    "    for i,line in enumerate(lines):\n",
    "        for key in to_remove:\n",
    "            line = line.replace(key, ' ') # bug\n",
    "        lines[i] = line\n",
    "    return lines\n",
    "\n",
    "def frequency_words(text=file_path, list=False):\n",
    "    \"\"\"\n",
    "    Creates a dictionary of unique words frequency in descending order.\n",
    "\n",
    "    text : file path or list(of lines), default file path. Set list = True to use file_path\n",
    "    list : When True text is use as a list.\n",
    "\n",
    "    returns : Dict, unique word frequency in descending order\n",
    "    \"\"\"\n",
    "    def value_of_dict(key):\n",
    "        return unique_word[key]\n",
    "    \n",
    "    unique_word = {}\n",
    "    \n",
    "    if list:\n",
    "        for line in text:\n",
    "            words = line.split()\n",
    "            for word in words:\n",
    "                if word not in unique_word:\n",
    "                    unique_word[word] = 1\n",
    "                else:\n",
    "                    unique_word[word] = unique_word[word] + 1\n",
    "    else:\n",
    "        with open(text) as file:\n",
    "            lines = file.readlines()\n",
    "            for line in lines:\n",
    "                words = line.split()\n",
    "                for word in words:\n",
    "                    if word not in unique_word:\n",
    "                        unique_word[word] = 1\n",
    "                    else:\n",
    "                        unique_word[word] = unique_word[word] + 1\n",
    "                        \n",
    "    descending_order = sorted(unique_word, key=value_of_dict, reverse=True)\n",
    "    for word in descending_order:\n",
    "        frequency[word] = unique_word[word]\n",
    "    return frequency\n",
    "    \n",
    "print(\"Word count of Original text: \",len_of_text())\n",
    "text_modified = remove(to_remove=find_punct())\n",
    "\n",
    "freq = frequency_words(text=text_modified, list=True)\n",
    "print(max(freq))\n",
    "# frequency_words()\n"
   ]
  },
  {
   "cell_type": "markdown",
   "id": "ae3e0c0d-b06c-42b1-b8fd-566d079b8c8a",
   "metadata": {},
   "source": [
    "**Some words may be miss splled so we will remove them**"
   ]
  },
  {
   "cell_type": "code",
   "execution_count": 22,
   "id": "0af7ae96-382d-4ac7-b8b1-ff86f811e4e6",
   "metadata": {},
   "outputs": [
    {
     "ename": "TypeError",
     "evalue": "'list' object is not callable",
     "output_type": "error",
     "traceback": [
      "\u001b[0;31m---------------------------------------------------------------------------\u001b[0m",
      "\u001b[0;31mTypeError\u001b[0m                                 Traceback (most recent call last)",
      "Cell \u001b[0;32mIn[22], line 47\u001b[0m\n\u001b[1;32m     45\u001b[0m freq \u001b[38;5;241m=\u001b[39m frequency_words(text\u001b[38;5;241m=\u001b[39mtext_modified, \u001b[38;5;28mlist\u001b[39m\u001b[38;5;241m=\u001b[39m\u001b[38;5;28;01mTrue\u001b[39;00m)\n\u001b[1;32m     46\u001b[0m valid_words_dict \u001b[38;5;241m=\u001b[39m valid_words()\n\u001b[0;32m---> 47\u001b[0m misspeled_words \u001b[38;5;241m=\u001b[39m misspeled(freq, valid_words_dict, threshold\u001b[38;5;241m=\u001b[39m\u001b[38;5;241m1\u001b[39m)\n",
      "Cell \u001b[0;32mIn[22], line 34\u001b[0m, in \u001b[0;36mmisspeled\u001b[0;34m(frequency, valid_words, threshold)\u001b[0m\n\u001b[1;32m     31\u001b[0m invalid_words \u001b[38;5;241m=\u001b[39m {}\n\u001b[1;32m     33\u001b[0m threshold \u001b[38;5;241m=\u001b[39m threshold\u001b[38;5;241m+\u001b[39m\u001b[38;5;241m1\u001b[39m\n\u001b[0;32m---> 34\u001b[0m threshold \u001b[38;5;241m=\u001b[39m \u001b[38;5;28mlist\u001b[39m(\u001b[38;5;28mrange\u001b[39m(threshold)) \u001b[38;5;66;03m#list : eg: [0,1]\u001b[39;00m\n\u001b[1;32m     35\u001b[0m \u001b[38;5;28;01mfor\u001b[39;00m min_freq \u001b[38;5;129;01min\u001b[39;00m threshold[\u001b[38;5;241m1\u001b[39m:]:\n\u001b[1;32m     36\u001b[0m     \u001b[38;5;28;01mfor\u001b[39;00m word \u001b[38;5;129;01min\u001b[39;00m frequency:\n",
      "\u001b[0;31mTypeError\u001b[0m: 'list' object is not callable"
     ]
    }
   ],
   "source": [
    "file_path = 'datasets/words.txt' \n",
    "\n",
    "words_dict = {}\n",
    "def valid_words(_file_path=file_path):\n",
    "    \"\"\"\n",
    "    Returns a dictionary of 10,000 valid english words, where words are the keys\n",
    "\n",
    "    _file_path : String, the path to the file.txt to read\n",
    "\n",
    "    return : Dict, valid words as key of dictionary\n",
    "    \"\"\"\n",
    "    with open(_file_path) as file:\n",
    "        words = file.readlines()\n",
    "        # print(words)\n",
    "        for word in words:\n",
    "            word = word.strip('\\n')\n",
    "            words_dict[word] = 'NA'\n",
    "    return words_dict\n",
    "\n",
    "def misspeled(frequency, valid_words, threshold=1):\n",
    "    \"\"\"\n",
    "    Returns as dictionary of frequency of words excluding the misspeld\n",
    "\n",
    "    frequency : Dict, Raw dictionary of frequency of unique words\n",
    "    valid_word : Dict, Dictionary of 10,000 valid words of english\n",
    "    threshold : Int, Integer which defines the frequency to consider equal or less, of a word to check if it exists in valid group\n",
    "\n",
    "    return : Dict, dictionary of frequency of unique words, misspeld removed\n",
    "    \"\"\"\n",
    "\n",
    "    invalid_words = {}\n",
    "    \n",
    "    threshold = threshold+1\n",
    "    threshold = list(range(threshold)) #list : eg: [0,1]\n",
    "    for min_freq in threshold[1:]:\n",
    "        for word in frequency:\n",
    "            word = word\n",
    "            if word not in valid_words and frequency[word]==min_freq:\n",
    "                invalid_words[word] = frequency[word]\n",
    "            else:\n",
    "                pass\n",
    "    return invalid_words\n",
    "text_modified = remove(to_remove=find_punct())\n",
    "\n",
    "freq = frequency_words(text=text_modified, list=True)\n",
    "valid_words_dict = valid_words()\n",
    "misspeled_words = misspeled(freq, valid_words_dict, threshold=1)\n",
    "    "
   ]
  },
  {
   "cell_type": "markdown",
   "id": "e394a805-b426-44eb-bdd9-051b29d16be7",
   "metadata": {},
   "source": [
    "## Random generation (Markov)"
   ]
  },
  {
   "cell_type": "code",
   "execution_count": null,
   "id": "2563d2ee-9d29-46ff-b129-7d0412e96b8f",
   "metadata": {},
   "outputs": [],
   "source": [
    "import random\n",
    "\n",
    "# random.choice(list(frequency))\n",
    "\n",
    "for x in range(5):\n",
    "    word = random.choice(list(frequency))\n",
    "    print(word, end=\" \")"
   ]
  },
  {
   "cell_type": "markdown",
   "id": "2d80c985-1318-4b99-b77f-864e2c42cfbd",
   "metadata": {},
   "source": [
    "### Random words with weightage"
   ]
  },
  {
   "cell_type": "code",
   "execution_count": null,
   "id": "452b4aca-3fb5-48e3-aed6-9b5ad239674f",
   "metadata": {},
   "outputs": [],
   "source": [
    "weightage = frequency.values()\n",
    "print(weightage)\n",
    "words = random.choices(list(frequency), weight=)"
   ]
  },
  {
   "cell_type": "code",
   "execution_count": null,
   "id": "c2e063bd-93e8-4261-9f0b-cfe70dc418e6",
   "metadata": {},
   "outputs": [],
   "source": []
  }
 ],
 "metadata": {
  "kernelspec": {
   "display_name": "Python 3 (ipykernel)",
   "language": "python",
   "name": "python3"
  },
  "language_info": {
   "codemirror_mode": {
    "name": "ipython",
    "version": 3
   },
   "file_extension": ".py",
   "mimetype": "text/x-python",
   "name": "python",
   "nbconvert_exporter": "python",
   "pygments_lexer": "ipython3",
   "version": "3.11.7"
  }
 },
 "nbformat": 4,
 "nbformat_minor": 5
}
