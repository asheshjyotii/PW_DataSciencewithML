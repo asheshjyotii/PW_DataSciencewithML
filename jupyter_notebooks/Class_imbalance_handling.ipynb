{
 "cells": [
  {
   "cell_type": "markdown",
   "id": "87edc217-b2d3-41da-bfa8-c262771af91c",
   "metadata": {},
   "source": [
    "# Class imbalance Handling"
   ]
  },
  {
   "cell_type": "code",
   "execution_count": 2,
   "id": "3911035e-ca78-4c56-8dea-7f46176f1dd0",
   "metadata": {},
   "outputs": [],
   "source": [
    "import pandas as pd\n",
    "import numpy as np "
   ]
  },
  {
   "cell_type": "code",
   "execution_count": 6,
   "id": "88afff6c-e997-4ec1-b508-f8b1b45bfbcd",
   "metadata": {},
   "outputs": [
    {
     "ename": "TypeError",
     "evalue": "expected a sequence of integers or a single integer, got '900.0'",
     "output_type": "error",
     "traceback": [
      "\u001b[0;31m---------------------------------------------------------------------------\u001b[0m",
      "\u001b[0;31mTypeError\u001b[0m                                 Traceback (most recent call last)",
      "Cell \u001b[0;32mIn[6], line 8\u001b[0m\n\u001b[1;32m      3\u001b[0m no_class_1 \u001b[38;5;241m=\u001b[39m \u001b[38;5;241m0.1\u001b[39m\u001b[38;5;241m*\u001b[39mtotal_class\n\u001b[1;32m      6\u001b[0m np\u001b[38;5;241m.\u001b[39mrandom\u001b[38;5;241m.\u001b[39mseed(\u001b[38;5;241m1\u001b[39m)\n\u001b[0;32m----> 8\u001b[0m class_0 \u001b[38;5;241m=\u001b[39m {\u001b[38;5;124m'\u001b[39m\u001b[38;5;124mfeature_1\u001b[39m\u001b[38;5;124m'\u001b[39m: np\u001b[38;5;241m.\u001b[39mrandom\u001b[38;5;241m.\u001b[39mnormal(\u001b[38;5;241m0\u001b[39m, \u001b[38;5;241m1\u001b[39m, no_class_0),\n\u001b[1;32m      9\u001b[0m            \u001b[38;5;124m'\u001b[39m\u001b[38;5;124mfeature_2\u001b[39m\u001b[38;5;124m'\u001b[39m: np\u001b[38;5;241m.\u001b[39mrandom\u001b[38;5;241m.\u001b[39mnormal(\u001b[38;5;241m0\u001b[39m, \u001b[38;5;241m1\u001b[39m, no_class_0),\n\u001b[1;32m     10\u001b[0m            \u001b[38;5;124m'\u001b[39m\u001b[38;5;124mtarget\u001b[39m\u001b[38;5;124m'\u001b[39m: [\u001b[38;5;241m0\u001b[39m]\u001b[38;5;241m*\u001b[39mno_class_0,}\n\u001b[1;32m     11\u001b[0m class_0\n",
      "File \u001b[0;32mnumpy/random/mtrand.pyx:1557\u001b[0m, in \u001b[0;36mnumpy.random.mtrand.RandomState.normal\u001b[0;34m()\u001b[0m\n",
      "File \u001b[0;32m_common.pyx:636\u001b[0m, in \u001b[0;36mnumpy.random._common.cont\u001b[0;34m()\u001b[0m\n",
      "\u001b[0;31mTypeError\u001b[0m: expected a sequence of integers or a single integer, got '900.0'"
     ]
    }
   ],
   "source": [
    "total_class = 1000\n",
    "no_class_0 = int(0.9*total_class) # need to be integer since the np.random.normal expects a sequence of integer or a single integer\n",
    "no_class_1 = int(0.1*total_class)\n",
    "\n",
    "\n",
    "np.random.seed(1)\n",
    "\n",
    "class_0 = {'feature_1': np.random.normal(0, 1, no_class_0),\n",
    "           'feature_2': np.random.normal(0, 1, no_class_0),\n",
    "           'target': [0]*no_class_0,}\n",
    "class_0"
   ]
  },
  {
   "cell_type": "code",
   "execution_count": null,
   "id": "770c60c1-3156-492f-ab1c-93d009f24f93",
   "metadata": {},
   "outputs": [],
   "source": []
  }
 ],
 "metadata": {
  "kernelspec": {
   "display_name": "Python 3 (ipykernel)",
   "language": "python",
   "name": "python3"
  },
  "language_info": {
   "codemirror_mode": {
    "name": "ipython",
    "version": 3
   },
   "file_extension": ".py",
   "mimetype": "text/x-python",
   "name": "python",
   "nbconvert_exporter": "python",
   "pygments_lexer": "ipython3",
   "version": "3.11.7"
  }
 },
 "nbformat": 4,
 "nbformat_minor": 5
}
