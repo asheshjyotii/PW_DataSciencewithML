{
 "cells": [
  {
   "cell_type": "markdown",
   "id": "87edc217-b2d3-41da-bfa8-c262771af91c",
   "metadata": {},
   "source": [
    "# Class imbalance Handling"
   ]
  },
  {
   "cell_type": "code",
   "execution_count": 2,
   "id": "3911035e-ca78-4c56-8dea-7f46176f1dd0",
   "metadata": {},
   "outputs": [],
   "source": [
    "import pandas as pd\n",
    "import numpy as np "
   ]
  },
  {
   "cell_type": "code",
   "execution_count": 17,
   "id": "88afff6c-e997-4ec1-b508-f8b1b45bfbcd",
   "metadata": {},
   "outputs": [
    {
     "data": {
      "text/plain": [
       "target\n",
       "0    900\n",
       "1    100\n",
       "Name: count, dtype: int64"
      ]
     },
     "execution_count": 17,
     "metadata": {},
     "output_type": "execute_result"
    }
   ],
   "source": [
    "total_class = 1000\n",
    "no_class_0 = int(0.9*total_class) # need to be integer since the np.random.normal expects a sequence of integer or a single integer\n",
    "no_class_1 = int(0.1*total_class)\n",
    "\n",
    "\n",
    "np.random.seed(1)\n",
    "\n",
    "class_0 = {'feature_1': np.random.normal(0, 1, no_class_0),\n",
    "           'feature_2': np.random.normal(0, 1, no_class_0),\n",
    "           'target': [0]*no_class_0}\n",
    "\n",
    "\n",
    "class_1 = {'feature_1': np.random.normal(0, 1, no_class_1),\n",
    "           'feature_2': np.random.normal(0, 1, no_class_1),\n",
    "           'target': [1]*no_class_1}\n",
    "\n",
    "class_0 = pd.DataFrame(class_0)\n",
    "class_1 = pd.DataFrame(class_1)\n",
    "\n",
    "df = pd.concat([class_0,class_1], ignore_index = True)\n",
    "df.value_counts(\"target\")"
   ]
  },
  {
   "cell_type": "code",
   "execution_count": null,
   "id": "770c60c1-3156-492f-ab1c-93d009f24f93",
   "metadata": {},
   "outputs": [],
   "source": []
  }
 ],
 "metadata": {
  "kernelspec": {
   "display_name": "Python 3 (ipykernel)",
   "language": "python",
   "name": "python3"
  },
  "language_info": {
   "codemirror_mode": {
    "name": "ipython",
    "version": 3
   },
   "file_extension": ".py",
   "mimetype": "text/x-python",
   "name": "python",
   "nbconvert_exporter": "python",
   "pygments_lexer": "ipython3",
   "version": "3.11.7"
  }
 },
 "nbformat": 4,
 "nbformat_minor": 5
}
